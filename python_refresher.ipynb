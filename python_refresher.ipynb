{
  "cells": [
    {
      "cell_type": "markdown",
      "metadata": {
        "colab_type": "text",
        "id": "view-in-github"
      },
      "source": [
        "<a href=\"https://colab.research.google.com/github/iandonaldson/colab-python-refresher/blob/main/python_refresher.ipynb\" target=\"_parent\"><img src=\"https://colab.research.google.com/assets/colab-badge.svg\" alt=\"Open In Colab\"/></a>"
      ]
    },
    {
      "cell_type": "markdown",
      "metadata": {
        "id": "8kSikFddLKmy"
      },
      "source": [
        "# Learning and resources"
      ]
    },
    {
      "cell_type": "markdown",
      "metadata": {
        "id": "UOkQxF9OHIJe"
      },
      "source": [
        "Python learning resources\n",
        "\n",
        "https://www.w3schools.com/python/\n",
        "\n",
        "Python, Colab and DeepLearning  \n",
        "https://neptune.ai/blog/how-to-use-google-colab-for-deep-learning-complete-tutorial"
      ]
    },
    {
      "cell_type": "markdown",
      "metadata": {
        "id": "ckpRAaX0LWVY"
      },
      "source": [
        "# Basics"
      ]
    },
    {
      "cell_type": "markdown",
      "metadata": {
        "id": "b4xCeSQDCI4P"
      },
      "source": [
        "## Comments"
      ]
    },
    {
      "cell_type": "code",
      "execution_count": null,
      "metadata": {
        "colab": {
          "base_uri": "https://localhost:8080/",
          "height": 35
        },
        "id": "2hAKpVu_BCJi",
        "outputId": "0e6d155a-0f27-4ca8-d273-b1ef41f50763"
      },
      "outputs": [
        {
          "data": {
            "application/vnd.google.colaboratory.intrinsic+json": {
              "type": "string"
            },
            "text/plain": [
              "'\\nthis is a multi-line string and can be used\\nfor longer comments\\n'"
            ]
          },
          "execution_count": 2,
          "metadata": {},
          "output_type": "execute_result"
        }
      ],
      "source": [
        "\n",
        "# this is a comment\n",
        "\n",
        "'''\n",
        "this is a multi-line string and can be used\n",
        "for longer comments\n",
        "'''\n"
      ]
    },
    {
      "cell_type": "markdown",
      "metadata": {
        "id": "TImWN5JVCZbu"
      },
      "source": [
        "## Basic math"
      ]
    },
    {
      "cell_type": "code",
      "execution_count": null,
      "metadata": {
        "colab": {
          "base_uri": "https://localhost:8080/"
        },
        "id": "PVJmpETtB9ok",
        "outputId": "1d60ed49-40f6-4ec2-dc03-43227548d553"
      },
      "outputs": [
        {
          "name": "stdout",
          "output_type": "stream",
          "text": [
            "this (50-5*6)/4 is equal to 5\n",
            "this is equal to 5.0\n",
            "5.0\n",
            "5.0\n"
          ]
        }
      ],
      "source": [
        "print('this (50-5*6)/4 is equal to 5')\n",
        "print('this is equal to', (50-5*6)/4)\n",
        "\n",
        "print((50-5*6)/4)\n",
        "\n",
        "x = (50-5*6)/4\n",
        "print(x)\n"
      ]
    },
    {
      "cell_type": "markdown",
      "metadata": {
        "id": "FSy2BJXlEJYd"
      },
      "source": [
        "## Assignment and type"
      ]
    },
    {
      "cell_type": "code",
      "execution_count": null,
      "metadata": {
        "colab": {
          "base_uri": "https://localhost:8080/"
        },
        "id": "V-LVEf5gEMKS",
        "outputId": "b72e1208-a4e9-41ba-8157-2b2c8892c8ef"
      },
      "outputs": [
        {
          "name": "stdout",
          "output_type": "stream",
          "text": [
            "1 2 3\n",
            "0 0 0\n",
            "3\n"
          ]
        },
        {
          "data": {
            "text/plain": [
              "float"
            ]
          },
          "execution_count": 18,
          "metadata": {},
          "output_type": "execute_result"
        }
      ],
      "source": [
        "a = 1\n",
        "b , c = 2 , 3\n",
        "print(a , b , c)\n",
        "a = b = c = 0\n",
        "print(a, b, c)\n",
        "\n",
        "#print n will create an error \n",
        "#variables must be assigned before use\n",
        "#but they dont' have to be declared\n",
        "\n",
        "\n",
        "x = 4       # x is of type int\n",
        "x = \"Sally\" # x is now of type str\n",
        "x = str(3)    # x will be '3'\n",
        "y = int(3)    # y will be 3\n",
        "z = float(3)  # z will be 3.0\n",
        "print(x)\n",
        "\n",
        "#get the type of a variable\n",
        "type(x) # note that output must be explicit to appear in output cell\n",
        "type(z) # except for the very last operation in the cell\n"
      ]
    },
    {
      "cell_type": "markdown",
      "metadata": {
        "id": "zBkVNtb8MaGt"
      },
      "source": [
        "## Variables are global\n"
      ]
    },
    {
      "cell_type": "code",
      "execution_count": null,
      "metadata": {
        "colab": {
          "base_uri": "https://localhost:8080/"
        },
        "id": "k6gOCPkSMk4f",
        "outputId": "1763c4be-cfd3-4d7d-b428-ab21b03ab466"
      },
      "outputs": [
        {
          "name": "stdout",
          "output_type": "stream",
          "text": [
            "Python is fantastic and  everywhere\n",
            "Python is awesome\n"
          ]
        }
      ],
      "source": [
        "x = \"awesome\"\n",
        "y = \"everywhere\"\n",
        "\n",
        "def myfunc():\n",
        "  x = \"fantastic\"\n",
        "  print(\"Python is \" + x + \" and \" , y)\n",
        "\n",
        "myfunc()\n",
        "\n",
        "print(\"Python is \" + x)"
      ]
    },
    {
      "cell_type": "markdown",
      "metadata": {
        "id": "EEoXZpTou4Z8"
      },
      "source": [
        "##Importing custom modules into Google Colab from Google Drive\n",
        "\n",
        "You must first have a .py file that has been made with a text editor (e.g. Sublime) or a Python IDE (e.g. PyCharm) that is then uploaded onto google drive (see examples mymodule.py etc in the same directory as this notebook).\n",
        "\n",
        "DO NOT TRY . . .  \n",
        "1) to make a .py file with google docs  \n",
        "2) to make a .py file with colab by making a notebook and then renaming it to a .py file  \n",
        "3) making a .py file in your laptop in your google drive mirror directory and hoping that google drive will faithfully sync it as a .py file \n",
        "4) try to edit the .py file in your laptop in your google drive mirror directory and hoping that google drive will faithfully sync it   \n",
        "All of these lead to pain.   "
      ]
    },
    {
      "cell_type": "code",
      "execution_count": 1,
      "metadata": {
        "colab": {
          "base_uri": "https://localhost:8080/"
        },
        "id": "ZYCfrBixPIDK",
        "outputId": "0e1af584-7c5f-498f-ed61-68d2d4ef0416"
      },
      "outputs": [
        {
          "name": "stdout",
          "output_type": "stream",
          "text": [
            "Mounted at /content/drive\n"
          ]
        }
      ],
      "source": [
        "# https://medium.com/analytics-vidhya/importing-your-own-python-module-or-python-file-into-colab-3e365f0a35ec\n",
        "# mount your google drive in google colab\n",
        "from google.colab import drive\n",
        "drive.mount('/content/drive')\n",
        "\n",
        "# follow the prompts to allow access"
      ]
    },
    {
      "cell_type": "code",
      "execution_count": 21,
      "metadata": {
        "colab": {
          "base_uri": "https://localhost:8080/"
        },
        "id": "dcHDrmH1v4OU",
        "outputId": "34d5a38d-1613-436e-c1d4-897ece7c6a7c"
      },
      "outputs": [
        {
          "name": "stdout",
          "output_type": "stream",
          "text": [
            "/content\n"
          ]
        }
      ],
      "source": [
        "# check your colab temporary path\n",
        "!pwd # returns /content \n",
        "\n",
        "# you can browse this with the file browser on the left in colab"
      ]
    },
    {
      "cell_type": "code",
      "execution_count": 48,
      "metadata": {
        "id": "FesAW7MzwXzU"
      },
      "outputs": [],
      "source": [
        "# copy custom module from google drive to colab temporary drive \n",
        "# !cp [path of your custom module] [path where you like to copy]\n",
        "!cp /content/drive/MyDrive/ColabNotebooks/2.PythonRefresher/mymodule.py /content/mymodule.py\n",
        "\n"
      ]
    },
    {
      "cell_type": "code",
      "execution_count": 49,
      "metadata": {
        "colab": {
          "base_uri": "https://localhost:8080/"
        },
        "id": "PuJInAqv5Xhg",
        "outputId": "7ac96ce8-ed85-4269-ddbd-619c350d6886"
      },
      "outputs": [
        {
          "name": "stdout",
          "output_type": "stream",
          "text": [
            "Hello, earthling\n"
          ]
        }
      ],
      "source": [
        "# comment\n",
        "import mymodule as mm\n",
        "mm.greeting(\"earthling\")"
      ]
    },
    {
      "cell_type": "code",
      "execution_count": 41,
      "metadata": {
        "id": "Gjt3898UwTW4"
      },
      "outputs": [],
      "source": [
        "#alternatively, leave the module on google drive and import sys\n",
        "#use insert and not append\n",
        "sys.path.insert(0, \"/content/drive/MyDrive/ColabNotebooks/2.PythonRefresher\")"
      ]
    },
    {
      "cell_type": "code",
      "execution_count": 42,
      "metadata": {
        "colab": {
          "base_uri": "https://localhost:8080/"
        },
        "id": "AF6vJ6-a3F9X",
        "outputId": "1aa9557d-71d3-43fb-f5e4-1ecba791ce60"
      },
      "outputs": [
        {
          "name": "stdout",
          "output_type": "stream",
          "text": [
            "Hello, martian\n"
          ]
        }
      ],
      "source": [
        "import mymodule3 as mm3\n",
        "mm3.greeting(\"martian\")"
      ]
    },
    {
      "cell_type": "code",
      "execution_count": 51,
      "metadata": {
        "colab": {
          "base_uri": "https://localhost:8080/"
        },
        "id": "9bQpbZjlXfoW",
        "outputId": "587152a4-267d-44fc-d64f-f0d1333a6a2d"
      },
      "outputs": [
        {
          "name": "stdout",
          "output_type": "stream",
          "text": [
            "Hello again from module 2, you\n"
          ]
        }
      ],
      "source": [
        "import mymodule2 as mm2\n",
        "mm2.greeting(\"you\")"
      ]
    }
  ],
  "metadata": {
    "colab": {
      "authorship_tag": "ABX9TyPLtWid3m4jWKPAVcL0HVDj",
      "include_colab_link": true,
      "mount_file_id": "1mbUW2iaZzslLLX2TwOd46vuldA_cUY33",
      "provenance": []
    },
    "kernelspec": {
      "display_name": "Python 3",
      "name": "python3"
    },
    "language_info": {
      "name": "python"
    }
  },
  "nbformat": 4,
  "nbformat_minor": 0
}
