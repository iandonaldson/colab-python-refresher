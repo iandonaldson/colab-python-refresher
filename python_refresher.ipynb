{
  "nbformat": 4,
  "nbformat_minor": 0,
  "metadata": {
    "colab": {
      "provenance": [],
      "mount_file_id": "1mbUW2iaZzslLLX2TwOd46vuldA_cUY33",
      "authorship_tag": "ABX9TyO6qkeHhharcXxrYtoLeUbw",
      "include_colab_link": true
    },
    "kernelspec": {
      "name": "python3",
      "display_name": "Python 3"
    },
    "language_info": {
      "name": "python"
    }
  },
  "cells": [
    {
      "cell_type": "markdown",
      "metadata": {
        "id": "view-in-github",
        "colab_type": "text"
      },
      "source": [
        "<a href=\"https://colab.research.google.com/github/iandonaldson/colab-python-refresher/blob/main/python_refresher.ipynb\" target=\"_parent\"><img src=\"https://colab.research.google.com/assets/colab-badge.svg\" alt=\"Open In Colab\"/></a>"
      ]
    },
    {
      "cell_type": "markdown",
      "source": [
        "# Learning and resources"
      ],
      "metadata": {
        "id": "8kSikFddLKmy"
      }
    },
    {
      "cell_type": "markdown",
      "source": [
        "Python learning resources\n",
        "\n",
        "https://www.w3schools.com/python/  \n",
        "\n",
        "Introduction to Data Analysis in the Biological Sciences  \n",
        "https://bebi103a.github.io/lessons/02/index.html \n",
        "\n",
        "Python, Colab and DeepLearning  \n",
        "https://neptune.ai/blog/how-to-use-google-colab-for-deep-learning-complete-tutorial"
      ],
      "metadata": {
        "id": "UOkQxF9OHIJe"
      }
    },
    {
      "cell_type": "markdown",
      "source": [
        "# Basics"
      ],
      "metadata": {
        "id": "ckpRAaX0LWVY"
      }
    },
    {
      "cell_type": "markdown",
      "source": [
        "## Comments"
      ],
      "metadata": {
        "id": "b4xCeSQDCI4P"
      }
    },
    {
      "cell_type": "code",
      "execution_count": null,
      "metadata": {
        "id": "2hAKpVu_BCJi",
        "colab": {
          "base_uri": "https://localhost:8080/",
          "height": 35
        },
        "outputId": "0e6d155a-0f27-4ca8-d273-b1ef41f50763"
      },
      "outputs": [
        {
          "output_type": "execute_result",
          "data": {
            "text/plain": [
              "'\\nthis is a multi-line string and can be used\\nfor longer comments\\n'"
            ],
            "application/vnd.google.colaboratory.intrinsic+json": {
              "type": "string"
            }
          },
          "metadata": {},
          "execution_count": 2
        }
      ],
      "source": [
        "\n",
        "# this is a comment\n",
        "\n",
        "'''\n",
        "this is a multi-line string and can be used\n",
        "for longer comments\n",
        "'''\n"
      ]
    },
    {
      "cell_type": "markdown",
      "source": [
        "## Basic math"
      ],
      "metadata": {
        "id": "TImWN5JVCZbu"
      }
    },
    {
      "cell_type": "code",
      "source": [
        "print('this (50-5*6)/4 is equal to 5')\n",
        "print('this is equal to', (50-5*6)/4)\n",
        "\n",
        "print((50-5*6)/4)\n",
        "\n",
        "x = (50-5*6)/4\n",
        "print(x)\n"
      ],
      "metadata": {
        "colab": {
          "base_uri": "https://localhost:8080/"
        },
        "id": "PVJmpETtB9ok",
        "outputId": "1d60ed49-40f6-4ec2-dc03-43227548d553"
      },
      "execution_count": null,
      "outputs": [
        {
          "output_type": "stream",
          "name": "stdout",
          "text": [
            "this (50-5*6)/4 is equal to 5\n",
            "this is equal to 5.0\n",
            "5.0\n",
            "5.0\n"
          ]
        }
      ]
    },
    {
      "cell_type": "markdown",
      "source": [
        "## Assignment and type"
      ],
      "metadata": {
        "id": "FSy2BJXlEJYd"
      }
    },
    {
      "cell_type": "code",
      "source": [
        "a = 1\n",
        "b , c = 2 , 3\n",
        "print(a , b , c)\n",
        "a = b = c = 0\n",
        "print(a, b, c)\n",
        "\n",
        "#print n will create an error \n",
        "#variables must be assigned before use\n",
        "#but they dont' have to be declared\n",
        "\n",
        "\n",
        "x = 4       # x is of type int\n",
        "x = \"Sally\" # x is now of type str\n",
        "x = str(3)    # x will be '3'\n",
        "y = int(3)    # y will be 3\n",
        "z = float(3)  # z will be 3.0\n",
        "print(x)\n",
        "\n",
        "#get the type of a variable\n",
        "type(x) # note that output must be explicit to appear in output cell\n",
        "type(z) # except for the very last operation in the cell\n"
      ],
      "metadata": {
        "colab": {
          "base_uri": "https://localhost:8080/"
        },
        "id": "V-LVEf5gEMKS",
        "outputId": "b72e1208-a4e9-41ba-8157-2b2c8892c8ef"
      },
      "execution_count": null,
      "outputs": [
        {
          "output_type": "stream",
          "name": "stdout",
          "text": [
            "1 2 3\n",
            "0 0 0\n",
            "3\n"
          ]
        },
        {
          "output_type": "execute_result",
          "data": {
            "text/plain": [
              "float"
            ]
          },
          "metadata": {},
          "execution_count": 18
        }
      ]
    },
    {
      "cell_type": "markdown",
      "source": [
        "## Variables are global\n"
      ],
      "metadata": {
        "id": "zBkVNtb8MaGt"
      }
    },
    {
      "cell_type": "code",
      "source": [
        "x = \"awesome\"\n",
        "y = \"everywhere\"\n",
        "\n",
        "def myfunc():\n",
        "  x = \"fantastic\"\n",
        "  print(\"Python is \" + x + \" and \" , y)\n",
        "\n",
        "myfunc()\n",
        "\n",
        "print(\"Python is \" + x)"
      ],
      "metadata": {
        "colab": {
          "base_uri": "https://localhost:8080/"
        },
        "id": "k6gOCPkSMk4f",
        "outputId": "1763c4be-cfd3-4d7d-b428-ab21b03ab466"
      },
      "execution_count": null,
      "outputs": [
        {
          "output_type": "stream",
          "name": "stdout",
          "text": [
            "Python is fantastic and  everywhere\n",
            "Python is awesome\n"
          ]
        }
      ]
    },
    {
      "cell_type": "markdown",
      "source": [
        "##Importing custom modules into Google Colab from Google Drive\n",
        "\n",
        "You must first have a .py file that has been made with a text editor (e.g. Sublime) or a Python IDE (e.g. PyCharm) that is then uploaded onto google drive (see examples mymodule.py etc in the same directory as this notebook).\n",
        "\n",
        "DO NOT TRY . . .  \n",
        "1) to make a .py file with google docs  \n",
        "2) to make a .py file with colab by making a notebook and then renaming it to a .py file  \n",
        "3) making a .py file in your laptop in your google drive mirror directory and hoping that google drive will faithfully sync it as a .py file \n",
        "4) try to edit the .py file in your laptop in your google drive mirror directory and hoping that google drive will faithfully sync it   \n",
        "All of these lead to pain.   "
      ],
      "metadata": {
        "id": "EEoXZpTou4Z8"
      }
    },
    {
      "cell_type": "code",
      "source": [
        "# https://medium.com/analytics-vidhya/importing-your-own-python-module-or-python-file-into-colab-3e365f0a35ec\n",
        "# mount your google drive in google colab\n",
        "from google.colab import drive\n",
        "drive.mount('/content/drive')\n",
        "\n",
        "# follow the prompts to allow access"
      ],
      "metadata": {
        "colab": {
          "base_uri": "https://localhost:8080/"
        },
        "id": "ZYCfrBixPIDK",
        "outputId": "0e1af584-7c5f-498f-ed61-68d2d4ef0416"
      },
      "execution_count": null,
      "outputs": [
        {
          "output_type": "stream",
          "name": "stdout",
          "text": [
            "Mounted at /content/drive\n"
          ]
        }
      ]
    },
    {
      "cell_type": "code",
      "source": [
        "# check your colab temporary path\n",
        "!pwd # returns /content \n",
        "\n",
        "# you can browse this with the file browser on the left in colab"
      ],
      "metadata": {
        "colab": {
          "base_uri": "https://localhost:8080/"
        },
        "id": "dcHDrmH1v4OU",
        "outputId": "34d5a38d-1613-436e-c1d4-897ece7c6a7c"
      },
      "execution_count": null,
      "outputs": [
        {
          "output_type": "stream",
          "name": "stdout",
          "text": [
            "/content\n"
          ]
        }
      ]
    },
    {
      "cell_type": "code",
      "source": [
        "# copy custom module from google drive to colab temporary drive \n",
        "# !cp [path of your custom module] [path where you like to copy]\n",
        "!cp /content/drive/MyDrive/ColabNotebooks/2.PythonRefresher/mymodule.py /content/mymodule.py\n",
        "\n"
      ],
      "metadata": {
        "id": "FesAW7MzwXzU"
      },
      "execution_count": null,
      "outputs": []
    },
    {
      "cell_type": "code",
      "source": [
        "import mymodule as mm\n",
        "mm.greeting(\"earthling\")"
      ],
      "metadata": {
        "colab": {
          "base_uri": "https://localhost:8080/"
        },
        "id": "PuJInAqv5Xhg",
        "outputId": "7ac96ce8-ed85-4269-ddbd-619c350d6886"
      },
      "execution_count": null,
      "outputs": [
        {
          "output_type": "stream",
          "name": "stdout",
          "text": [
            "Hello, earthling\n"
          ]
        }
      ]
    },
    {
      "cell_type": "code",
      "source": [
        "#alternatively, leave the module on google drive and import sys\n",
        "#use insert and not append\n",
        "sys.path.insert(0, \"/content/drive/MyDrive/ColabNotebooks/2.PythonRefresher\")"
      ],
      "metadata": {
        "id": "Gjt3898UwTW4"
      },
      "execution_count": null,
      "outputs": []
    },
    {
      "cell_type": "code",
      "source": [
        "\n",
        "#comment 2\n",
        "import mymodule3 as mm3\n",
        "mm3.greeting(\"martian\")"
      ],
      "metadata": {
        "colab": {
          "base_uri": "https://localhost:8080/"
        },
        "id": "AF6vJ6-a3F9X",
        "outputId": "1aa9557d-71d3-43fb-f5e4-1ecba791ce60"
      },
      "execution_count": null,
      "outputs": [
        {
          "output_type": "stream",
          "name": "stdout",
          "text": [
            "Hello, martian\n"
          ]
        }
      ]
    },
    {
      "cell_type": "code",
      "source": [
        "import mymodule2 as mm2\n",
        "mm2.greeting(\"you\")"
      ],
      "metadata": {
        "colab": {
          "base_uri": "https://localhost:8080/"
        },
        "id": "9bQpbZjlXfoW",
        "outputId": "587152a4-267d-44fc-d64f-f0d1333a6a2d"
      },
      "execution_count": null,
      "outputs": [
        {
          "output_type": "stream",
          "name": "stdout",
          "text": [
            "Hello again from module 2, you\n"
          ]
        }
      ]
    },
    {
      "cell_type": "code",
      "source": [
        "# add a code block"
      ],
      "metadata": {
        "id": "u6Z1GSBxxlyQ"
      },
      "execution_count": null,
      "outputs": []
    },
    {
      "cell_type": "code",
      "source": [
        "# and another"
      ],
      "metadata": {
        "id": "l9puvakDyVQy"
      },
      "execution_count": null,
      "outputs": []
    },
    {
      "cell_type": "code",
      "source": [
        "#first clone the repo.  this will be placed in /content/.\n",
        "!git clone https://github.com/iandonaldson/colab-python-refresher.git"
      ],
      "metadata": {
        "colab": {
          "base_uri": "https://localhost:8080/"
        },
        "id": "1jK-MkHw0zYo",
        "outputId": "7beb53b5-db33-4f30-9a87-9c5ded9a5366"
      },
      "execution_count": 11,
      "outputs": [
        {
          "output_type": "stream",
          "name": "stdout",
          "text": [
            "fatal: destination path 'colab-python-refresher' already exists and is not an empty directory.\n"
          ]
        }
      ]
    },
    {
      "cell_type": "code",
      "source": [
        "#\n",
        "import sys\n",
        "sys.path.insert(0,'/content/colab-python-refresher/localLibs')\n",
        "\n",
        "import mylib1 as ml1\n",
        "ml1.saySomething(\"moonling\")"
      ],
      "metadata": {
        "id": "raL5aHRcIC8d",
        "outputId": "62132ccb-6de5-44f1-82ad-09174ffdcf4a",
        "colab": {
          "base_uri": "https://localhost:8080/"
        }
      },
      "execution_count": 14,
      "outputs": [
        {
          "output_type": "stream",
          "name": "stdout",
          "text": [
            "Hi, moonling this is a myLib1 function\n"
          ]
        }
      ]
    },
    {
      "cell_type": "markdown",
      "source": [
        "Edits to mylib1 have to be made to file outside of colab (say using gitdev at https://github.dev/iandonaldson/colab-python-refresher/blob/main/localLibs/mylib1.py).  \n",
        "\n",
        "\n",
        "\n",
        "Any edits to mylib1.py made inside colab will be lost when the session ends.   "
      ],
      "metadata": {
        "id": "8ODhVcJnJPR8"
      }
    },
    {
      "cell_type": "code",
      "source": [],
      "metadata": {
        "id": "_qtb9nGaJLLd"
      },
      "execution_count": null,
      "outputs": []
    }
  ]
}